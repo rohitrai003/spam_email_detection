{
 "cells": [
  {
   "cell_type": "code",
   "execution_count": 1,
   "id": "6b557ab7-4590-4fa3-9a0d-e744951e9685",
   "metadata": {},
   "outputs": [],
   "source": [
    "import pandas as pd\n",
    "import re\n",
    "email_test = pd.read_csv(\"email_test_data.csv\")"
   ]
  },
  {
   "cell_type": "code",
   "execution_count": 2,
   "id": "2968a112-ac4c-443a-a35d-acd8b9646114",
   "metadata": {},
   "outputs": [
    {
     "data": {
      "text/plain": [
       "'Get your FREE iPhone 15 now! Just enter your credit card details and shipping address here: [scam-link.com] Limited time offer! Act fast!'"
      ]
     },
     "execution_count": 2,
     "metadata": {},
     "output_type": "execute_result"
    }
   ],
   "source": [
    "# converting into lower case\n",
    "test_input = email_test.Body[1]\n",
    "test_input"
   ]
  },
  {
   "cell_type": "code",
   "execution_count": 3,
   "id": "298f57c4-b689-4267-9a0c-16d9e6e64e0a",
   "metadata": {},
   "outputs": [],
   "source": [
    "def capital_run_length_total(text):\n",
    "    return len(re.findall(r'[A-Z]',text)) "
   ]
  },
  {
   "cell_type": "code",
   "execution_count": 4,
   "id": "3252678d-490c-4da4-9714-82e774e0d75a",
   "metadata": {},
   "outputs": [],
   "source": [
    "def capital_run_length_longest(text):\n",
    "    capital_sequences = re.findall(r'[A-Z]+', text)\n",
    "    return max(map(len, capital_sequences)) if capital_sequences else 0"
   ]
  },
  {
   "cell_type": "code",
   "execution_count": 5,
   "id": "921afc72-0aa2-43b0-9b88-1476e63617dd",
   "metadata": {},
   "outputs": [],
   "source": [
    "def capital_run_length_average(text):\n",
    "    capital_sequences = re.findall(r'[A-Z]+', text)\n",
    "    return sum(map(len, capital_sequences)) / len(capital_sequences) if capital_sequences else 0"
   ]
  },
  {
   "cell_type": "code",
   "execution_count": 6,
   "id": "5c536dda-b115-403c-b629-221ea467e9c5",
   "metadata": {},
   "outputs": [],
   "source": [
    "def char_frequency(text, char):\n",
    "    total_chars = len(text)\n",
    "    char_count = text.count(char)\n",
    "    return (char_count / total_chars) * 100 if total_chars > 0 else 0"
   ]
  },
  {
   "cell_type": "code",
   "execution_count": 7,
   "id": "b5e2aaa6-214b-4c6f-8fbd-54e072031e2b",
   "metadata": {},
   "outputs": [
    {
     "name": "stdout",
     "output_type": "stream",
     "text": [
      "{'average': 1.5, 'capital': 9, 'longest': 4}\n"
     ]
    }
   ],
   "source": [
    "average = capital_run_length_average(test_input)\n",
    "capital = capital_run_length_total(test_input)\n",
    "longest = capital_run_length_longest(test_input)\n",
    "print({\"average\":average, \"capital\":capital, \"longest\" : longest })\n"
   ]
  },
  {
   "cell_type": "code",
   "execution_count": 8,
   "id": "be63408f-e6a1-41dd-91bf-7929cc7babaa",
   "metadata": {},
   "outputs": [
    {
     "name": "stdout",
     "output_type": "stream",
     "text": [
      "Frequency of ';': 0.00%\n",
      "Frequency of '(': 0.00%\n",
      "Frequency of '[': 0.73%\n",
      "Frequency of '!': 2.19%\n",
      "Frequency of '$': 0.00%\n",
      "Frequency of '#': 0.00%\n"
     ]
    }
   ],
   "source": [
    "special_chars = [\";\", \"(\", \"[\", \"!\", \"$\", \"#\"]\n",
    "char_freqs = {char: char_frequency(test_input, char) for char in special_chars}\n",
    "for char, freq in char_freqs.items():\n",
    "    print(f\"Frequency of '{char}': {freq:.2f}%\")\n"
   ]
  },
  {
   "cell_type": "code",
   "execution_count": 26,
   "id": "1b0d5bca-dcc1-45a4-b72d-a2491f13dfbd",
   "metadata": {},
   "outputs": [
    {
     "data": {
      "text/html": [
       "<div>\n",
       "<style scoped>\n",
       "    .dataframe tbody tr th:only-of-type {\n",
       "        vertical-align: middle;\n",
       "    }\n",
       "\n",
       "    .dataframe tbody tr th {\n",
       "        vertical-align: top;\n",
       "    }\n",
       "\n",
       "    .dataframe thead th {\n",
       "        text-align: right;\n",
       "    }\n",
       "</style>\n",
       "<table border=\"1\" class=\"dataframe\">\n",
       "  <thead>\n",
       "    <tr style=\"text-align: right;\">\n",
       "      <th></th>\n",
       "      <th>word_freq_make</th>\n",
       "      <th>word_freq_address</th>\n",
       "      <th>word_freq_all</th>\n",
       "      <th>word_freq_3d</th>\n",
       "      <th>word_freq_our</th>\n",
       "      <th>word_freq_over</th>\n",
       "      <th>word_freq_remove</th>\n",
       "      <th>word_freq_internet</th>\n",
       "      <th>word_freq_order</th>\n",
       "      <th>word_freq_mail</th>\n",
       "      <th>...</th>\n",
       "      <th>word_freq_conference</th>\n",
       "      <th>char_freq_%3B</th>\n",
       "      <th>char_freq_%28</th>\n",
       "      <th>char_freq_%5B</th>\n",
       "      <th>char_freq_%21</th>\n",
       "      <th>char_freq_%24</th>\n",
       "      <th>char_freq_%23</th>\n",
       "      <th>capital_run_length_total</th>\n",
       "      <th>capital_run_length_longest</th>\n",
       "      <th>capital_run_length_average</th>\n",
       "    </tr>\n",
       "  </thead>\n",
       "  <tbody>\n",
       "    <tr>\n",
       "      <th>0</th>\n",
       "      <td>0.0</td>\n",
       "      <td>0.0</td>\n",
       "      <td>0.0</td>\n",
       "      <td>0.0</td>\n",
       "      <td>1.129944</td>\n",
       "      <td>0.0</td>\n",
       "      <td>0.0</td>\n",
       "      <td>0.0</td>\n",
       "      <td>0.0</td>\n",
       "      <td>0.0</td>\n",
       "      <td>...</td>\n",
       "      <td>0.0</td>\n",
       "      <td>0.0</td>\n",
       "      <td>0.0</td>\n",
       "      <td>0.564972</td>\n",
       "      <td>0.564972</td>\n",
       "      <td>0.564972</td>\n",
       "      <td>0.0</td>\n",
       "      <td>6</td>\n",
       "      <td>1</td>\n",
       "      <td>1.0</td>\n",
       "    </tr>\n",
       "  </tbody>\n",
       "</table>\n",
       "<p>1 rows × 57 columns</p>\n",
       "</div>"
      ],
      "text/plain": [
       "   word_freq_make  word_freq_address  word_freq_all  word_freq_3d  \\\n",
       "0             0.0                0.0            0.0           0.0   \n",
       "\n",
       "   word_freq_our  word_freq_over  word_freq_remove  word_freq_internet  \\\n",
       "0       1.129944             0.0               0.0                 0.0   \n",
       "\n",
       "   word_freq_order  word_freq_mail  ...  word_freq_conference  char_freq_%3B  \\\n",
       "0              0.0             0.0  ...                   0.0            0.0   \n",
       "\n",
       "   char_freq_%28  char_freq_%5B  char_freq_%21  char_freq_%24  char_freq_%23  \\\n",
       "0            0.0       0.564972       0.564972       0.564972            0.0   \n",
       "\n",
       "   capital_run_length_total  capital_run_length_longest  \\\n",
       "0                         6                           1   \n",
       "\n",
       "   capital_run_length_average  \n",
       "0                         1.0  \n",
       "\n",
       "[1 rows x 57 columns]"
      ]
     },
     "execution_count": 26,
     "metadata": {},
     "output_type": "execute_result"
    }
   ],
   "source": [
    "\n",
    "# Given email text\n",
    "email_text = \"Dear Winner, You have been selected as the lucky winner of our annual lottery. Claim your $1,000,000 prize by clicking this link: [malicious-link.com] Hurry! Offer expires soon.\"\n",
    "\n",
    "# List of words to track for frequency calculation\n",
    "word_features = [\n",
    "    \"make\", \"address\", \"all\", \"3d\", \"our\", \"over\", \"remove\", \"internet\", \"order\", \"mail\", \"receive\", \"will\",\n",
    "    \"people\", \"report\", \"addresses\", \"free\", \"business\", \"email\", \"you\", \"credit\", \"your\", \"font\", \"000\", \"money\",\n",
    "    \"hp\", \"hpl\", \"george\", \"650\", \"lab\", \"labs\", \"telnet\", \"857\", \"data\", \"415\", \"85\", \"technology\", \"1999\",\n",
    "    \"parts\", \"pm\", \"direct\", \"cs\", \"meeting\", \"original\", \"project\", \"re\", \"edu\", \"table\", \"conference\"\n",
    "]\n",
    "\n",
    "char_features = [\";\", \"(\", \"[\", \"!\", \"$\", \"#\"]  # Special characters to track\n",
    "\n",
    "# Convert email text to lowercase for uniformity\n",
    "total_words = len(email_text)\n",
    "\n",
    "# Compute word frequency percentage\n",
    "word_freq = {f\"word_freq_{word}\": (words.count(word) / total_words) * 100 for word in word_features}\n",
    "\n",
    "# Compute character frequency percentage (adding % in feature names)\n",
    "total_chars = len(email_text)\n",
    "char_freq = {f\"char_freq_%{ord(c):X}\": (email_text.count(c) / total_chars) * 100 for c in char_features}\n",
    "\n",
    "# Compute capital letter statistics\n",
    "capital_sequences = re.findall(r'[A-Z]+', email_text)  # Find all uppercase sequences\n",
    "capital_run_length_total = sum(len(seq) for seq in capital_sequences)  # Total uppercase letters\n",
    "capital_run_length_longest = max([len(seq) for seq in capital_sequences], default=0)  # Longest sequence\n",
    "capital_run_length_average = capital_run_length_total / len(capital_sequences) if capital_sequences else 0  # Average length\n",
    "\n",
    "# Construct feature dictionary\n",
    "features = {**word_freq, **char_freq}\n",
    "features[\"capital_run_length_total\"] = capital_run_length_total\n",
    "features[\"capital_run_length_longest\"] = capital_run_length_longest\n",
    "features[\"capital_run_length_average\"] = capital_run_length_average\n",
    "\n",
    "# Convert to DataFrame\n",
    "email_df = pd.DataFrame([features])\n",
    "\n",
    "# Display DataFrame\n",
    "pd.DataFrame(email_df)\n"
   ]
  },
  {
   "cell_type": "code",
   "execution_count": 37,
   "id": "2ac905b8-75f9-4a34-9787-606eeba5e44c",
   "metadata": {},
   "outputs": [],
   "source": [
    "test_data = pd.read_csv(\"spam.csv\")\n",
    "xtest =  test_data.head(1)\n",
    "xtest = xtest.drop(\"class\", axis=1)"
   ]
  },
  {
   "cell_type": "code",
   "execution_count": 27,
   "id": "fd30b10a-f25b-48e0-9008-0cd493a9081f",
   "metadata": {},
   "outputs": [],
   "source": [
    "import joblib\n",
    "import pandas as pd\n",
    "\n",
    "# Load the trained model\n",
    "model = joblib.load(\"spam_classifier.pkl\")"
   ]
  },
  {
   "cell_type": "code",
   "execution_count": 38,
   "id": "956fd463-fc59-4bb3-b436-965c84d8190d",
   "metadata": {},
   "outputs": [
    {
     "name": "stdout",
     "output_type": "stream",
     "text": [
      "Prediction (1=Spam, 0=Not Spam): 1\n",
      "Spam Probability: 0.78\n",
      "Ham Probability: 0.22\n"
     ]
    }
   ],
   "source": [
    "# Ensure the feature order matches training data\n",
    "feature_order = model.feature_names_in_  # Get feature names from the model\n",
    "email_df = email_df[feature_order]\n",
    "\n",
    "# Make prediction\n",
    "prediction = model.predict(xtest)\n",
    "\n",
    "# Get prediction probabilities (optional)\n",
    "probability = model.predict_proba(xtest)\n",
    "\n",
    "# Print the results\n",
    "print(\"Prediction (1=Spam, 0=Not Spam):\", prediction[0])\n",
    "print(\"Spam Probability:\", probability[0][1])\n",
    "print(\"Ham Probability:\", probability[0][0])"
   ]
  },
  {
   "cell_type": "code",
   "execution_count": null,
   "id": "6455a946-0748-42cf-8f3d-2174fbc060bb",
   "metadata": {},
   "outputs": [],
   "source": []
  }
 ],
 "metadata": {
  "kernelspec": {
   "display_name": "Python 3 (ipykernel)",
   "language": "python",
   "name": "python3"
  },
  "language_info": {
   "codemirror_mode": {
    "name": "ipython",
    "version": 3
   },
   "file_extension": ".py",
   "mimetype": "text/x-python",
   "name": "python",
   "nbconvert_exporter": "python",
   "pygments_lexer": "ipython3",
   "version": "3.12.7"
  }
 },
 "nbformat": 4,
 "nbformat_minor": 5
}
